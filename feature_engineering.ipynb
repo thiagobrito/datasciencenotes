{
  "nbformat": 4,
  "nbformat_minor": 0,
  "metadata": {
    "colab": {
      "name": "Untitled0.ipynb",
      "version": "0.3.2",
      "provenance": []
    },
    "kernelspec": {
      "name": "python3",
      "display_name": "Python 3"
    }
  },
  "cells": [
    {
      "cell_type": "markdown",
      "metadata": {
        "id": "view-in-github",
        "colab_type": "text"
      },
      "source": [
        "[View in Colaboratory](https://colab.research.google.com/github/thiagobrito/datasciencenotes/blob/master/feature_engineering.ipynb)"
      ]
    },
    {
      "metadata": {
        "id": "3lSJTsaPiASm",
        "colab_type": "text"
      },
      "cell_type": "markdown",
      "source": [
        "# Feature Engineering and generation"
      ]
    },
    {
      "metadata": {
        "id": "4M6fZ969cGSl",
        "colab_type": "text"
      },
      "cell_type": "markdown",
      "source": [
        "## Numeric Features"
      ]
    },
    {
      "metadata": {
        "id": "xBLbfp3njeYO",
        "colab_type": "text"
      },
      "cell_type": "markdown",
      "source": [
        "## Categorical Features"
      ]
    },
    {
      "metadata": {
        "id": "iIa4UbxojhhU",
        "colab_type": "code",
        "colab": {}
      },
      "cell_type": "code",
      "source": [
        ""
      ],
      "execution_count": 0,
      "outputs": []
    },
    {
      "metadata": {
        "id": "-Krgwa6xjju5",
        "colab_type": "text"
      },
      "cell_type": "markdown",
      "source": [
        "## Categorical and ordinal features"
      ]
    },
    {
      "metadata": {
        "id": "N1AKw4MXjmb0",
        "colab_type": "code",
        "colab": {}
      },
      "cell_type": "code",
      "source": [
        ""
      ],
      "execution_count": 0,
      "outputs": []
    },
    {
      "metadata": {
        "id": "l_mN8_4EjnFH",
        "colab_type": "text"
      },
      "cell_type": "markdown",
      "source": [
        "## Datetime and coordinates"
      ]
    },
    {
      "metadata": {
        "id": "6uBu6SXPj-Pu",
        "colab_type": "code",
        "colab": {}
      },
      "cell_type": "code",
      "source": [
        ""
      ],
      "execution_count": 0,
      "outputs": []
    },
    {
      "metadata": {
        "id": "rWucGosJkJq5",
        "colab_type": "text"
      },
      "cell_type": "markdown",
      "source": [
        "## Handling missing values"
      ]
    },
    {
      "metadata": {
        "id": "A_j1v0ErkKwO",
        "colab_type": "code",
        "colab": {}
      },
      "cell_type": "code",
      "source": [
        ""
      ],
      "execution_count": 0,
      "outputs": []
    },
    {
      "metadata": {
        "id": "tqWs4COIkYHI",
        "colab_type": "text"
      },
      "cell_type": "markdown",
      "source": [
        "## Mean encoding"
      ]
    },
    {
      "metadata": {
        "id": "Ep1kt60_kZEI",
        "colab_type": "code",
        "colab": {}
      },
      "cell_type": "code",
      "source": [
        ""
      ],
      "execution_count": 0,
      "outputs": []
    },
    {
      "metadata": {
        "id": "z1bW05uPkZhs",
        "colab_type": "text"
      },
      "cell_type": "markdown",
      "source": [
        "## Regularization"
      ]
    },
    {
      "metadata": {
        "id": "UihCLN_Aka53",
        "colab_type": "code",
        "colab": {}
      },
      "cell_type": "code",
      "source": [
        ""
      ],
      "execution_count": 0,
      "outputs": []
    },
    {
      "metadata": {
        "id": "p1Jx-mbdkdAy",
        "colab_type": "text"
      },
      "cell_type": "markdown",
      "source": [
        "## Extensions and generalizations"
      ]
    },
    {
      "metadata": {
        "id": "YXmq5iZ2kfhf",
        "colab_type": "code",
        "colab": {}
      },
      "cell_type": "code",
      "source": [
        ""
      ],
      "execution_count": 0,
      "outputs": []
    },
    {
      "metadata": {
        "id": "O7uLqTceki6B",
        "colab_type": "text"
      },
      "cell_type": "markdown",
      "source": [
        "## Statistics and distance based features"
      ]
    },
    {
      "metadata": {
        "id": "XrYUbDXrklHo",
        "colab_type": "code",
        "colab": {}
      },
      "cell_type": "code",
      "source": [
        ""
      ],
      "execution_count": 0,
      "outputs": []
    },
    {
      "metadata": {
        "id": "rfcw9fW_klkM",
        "colab_type": "text"
      },
      "cell_type": "markdown",
      "source": [
        "## Matrix factorizations"
      ]
    },
    {
      "metadata": {
        "id": "G0QyeNSAknV_",
        "colab_type": "code",
        "colab": {}
      },
      "cell_type": "code",
      "source": [
        ""
      ],
      "execution_count": 0,
      "outputs": []
    },
    {
      "metadata": {
        "id": "AO_OVB-6knzD",
        "colab_type": "text"
      },
      "cell_type": "markdown",
      "source": [
        "## Feature interactions"
      ]
    },
    {
      "metadata": {
        "id": "VjCaya3lkpB4",
        "colab_type": "code",
        "colab": {}
      },
      "cell_type": "code",
      "source": [
        ""
      ],
      "execution_count": 0,
      "outputs": []
    },
    {
      "metadata": {
        "id": "6d-pDR3PkpbC",
        "colab_type": "text"
      },
      "cell_type": "markdown",
      "source": [
        "## t-SNE"
      ]
    },
    {
      "metadata": {
        "id": "jQxYIRcjkqug",
        "colab_type": "code",
        "colab": {}
      },
      "cell_type": "code",
      "source": [
        ""
      ],
      "execution_count": 0,
      "outputs": []
    },
    {
      "metadata": {
        "id": "qOYwIZttkrNq",
        "colab_type": "text"
      },
      "cell_type": "markdown",
      "source": [
        "## KNN Features Implementation"
      ]
    },
    {
      "metadata": {
        "id": "WNs71VsHku2K",
        "colab_type": "code",
        "colab": {}
      },
      "cell_type": "code",
      "source": [
        ""
      ],
      "execution_count": 0,
      "outputs": []
    }
  ]
}